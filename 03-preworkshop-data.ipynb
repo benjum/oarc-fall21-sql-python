{
 "cells": [
  {
   "cell_type": "markdown",
   "metadata": {},
   "source": [
    "## Interacting with external data -- our own pre-workshop survey"
   ]
  },
  {
   "cell_type": "code",
   "execution_count": null,
   "metadata": {},
   "outputs": [],
   "source": [
    "import sqlite3\n",
    "import pandas as pd"
   ]
  },
  {
   "cell_type": "code",
   "execution_count": null,
   "metadata": {},
   "outputs": [],
   "source": [
    "surveylink = 'https://docs.google.com/spreadsheets/d/1n3JBKM_Wp7TcJDPl05bR6joVWbFbmLiVkRbwUU-IhXg/export?format=csv'"
   ]
  },
  {
   "cell_type": "code",
   "execution_count": null,
   "metadata": {},
   "outputs": [],
   "source": [
    "df = pd.read_csv(surveylink)"
   ]
  },
  {
   "cell_type": "code",
   "execution_count": null,
   "metadata": {},
   "outputs": [],
   "source": [
    "df"
   ]
  },
  {
   "cell_type": "code",
   "execution_count": null,
   "metadata": {},
   "outputs": [],
   "source": [
    "for row in df.index:\n",
    "    print(df.iloc[row][1:].values)"
   ]
  },
  {
   "cell_type": "code",
   "execution_count": null,
   "metadata": {},
   "outputs": [],
   "source": [
    "connectionPreworkshop = sqlite3.connect('preworkshop.db')"
   ]
  },
  {
   "cell_type": "code",
   "execution_count": null,
   "metadata": {},
   "outputs": [],
   "source": [
    "cursorPreworkshop = connectionPreworkshop.cursor()"
   ]
  },
  {
   "cell_type": "code",
   "execution_count": null,
   "metadata": {},
   "outputs": [],
   "source": [
    "cursorPreworkshop.execute('''\n",
    "CREATE TABLE preworkshop (sql text,\n",
    "                        python text,\n",
    "                        jupyter text,\n",
    "                        pandas text);\n",
    "''')"
   ]
  },
  {
   "cell_type": "code",
   "execution_count": null,
   "metadata": {},
   "outputs": [],
   "source": [
    "for row in df.index:\n",
    "    answers = df.iloc[row][1:].values\n",
    "    cursorPreworkshop.execute('''INSERT INTO preworkshop (sql, python, jupyter, pandas) \n",
    "            VALUES (?,?,?,?);''', answers)"
   ]
  },
  {
   "cell_type": "code",
   "execution_count": null,
   "metadata": {},
   "outputs": [],
   "source": [
    "connectionPreworkshop.commit()"
   ]
  },
  {
   "cell_type": "code",
   "execution_count": null,
   "metadata": {},
   "outputs": [],
   "source": [
    "df = pd.read_sql_query('select * from preworkshop',connectionPreworkshop)"
   ]
  },
  {
   "cell_type": "code",
   "execution_count": null,
   "metadata": {},
   "outputs": [],
   "source": [
    "df"
   ]
  },
  {
   "cell_type": "code",
   "execution_count": null,
   "metadata": {},
   "outputs": [],
   "source": [
    "df['pandas'].value_counts().plot.barh()"
   ]
  },
  {
   "cell_type": "code",
   "execution_count": null,
   "metadata": {},
   "outputs": [],
   "source": [
    "cursorPreworkshop.execute('''\n",
    "CREATE TABLE answers (answerText text,\n",
    "                        answerCode integer);\n",
    "''')"
   ]
  },
  {
   "cell_type": "code",
   "execution_count": null,
   "metadata": {},
   "outputs": [],
   "source": [
    "answers = [\n",
    "    ['Use it all the time',4],\n",
    "    ['Use them all the time',4],\n",
    "    ['Not an expert, but comfortable with reading commands',3],\n",
    "    ['Not an expert, but comfortable with running them',3],\n",
    "    ['Familiar with it but could use a refresher',2],\n",
    "    ['Familiar with them but could use a refresher',2],\n",
    "    ['Not at all',1],\n",
    "    ['What\\'s Pandas?',0],\n",
    "]\n",
    "\n",
    "for i in answers:\n",
    "    cursorPreworkshop.execute('''INSERT INTO answers (answerText, answerCode) \n",
    "            VALUES (?,?);''', i)"
   ]
  },
  {
   "cell_type": "code",
   "execution_count": null,
   "metadata": {},
   "outputs": [],
   "source": [
    "connectionPreworkshop.commit()"
   ]
  },
  {
   "cell_type": "code",
   "execution_count": null,
   "metadata": {},
   "outputs": [],
   "source": [
    "df = pd.read_sql_query('select * from answers',connectionPreworkshop)"
   ]
  },
  {
   "cell_type": "code",
   "execution_count": null,
   "metadata": {},
   "outputs": [],
   "source": [
    "df"
   ]
  },
  {
   "cell_type": "code",
   "execution_count": null,
   "metadata": {},
   "outputs": [],
   "source": [
    "df = pd.read_sql_query('''\n",
    "select a1.answerCode as sql, \n",
    "    a2.answerCode as python, \n",
    "    a3.answerCode as jupyter, \n",
    "    a4.answerCode as pandas,\n",
    "    (a1.answerCode + a2.answerCode + a3.answerCode + a4.answerCode)/16. as Mastery\n",
    "from preworkshop p\n",
    "join answers a1\n",
    "on p.sql = a1.answerText\n",
    "join answers a2\n",
    "on p.python = a2.answerText\n",
    "join answers a3\n",
    "on p.jupyter = a3.answerText\n",
    "join answers a4\n",
    "on p.pandas = a4.answerText\n",
    "''',connectionPreworkshop)"
   ]
  },
  {
   "cell_type": "code",
   "execution_count": null,
   "metadata": {},
   "outputs": [],
   "source": [
    "df"
   ]
  },
  {
   "cell_type": "code",
   "execution_count": null,
   "metadata": {},
   "outputs": [],
   "source": [
    "df['Mastery'].plot.hist(range=(0.0,1.0))"
   ]
  }
 ],
 "metadata": {
  "kernelspec": {
   "display_name": "Python 3 (ipykernel)",
   "language": "python",
   "name": "python3"
  },
  "language_info": {
   "codemirror_mode": {
    "name": "ipython",
    "version": 3
   },
   "file_extension": ".py",
   "mimetype": "text/x-python",
   "name": "python",
   "nbconvert_exporter": "python",
   "pygments_lexer": "ipython3",
   "version": "3.9.6"
  }
 },
 "nbformat": 4,
 "nbformat_minor": 2
}
